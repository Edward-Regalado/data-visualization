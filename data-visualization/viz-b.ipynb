{
 "cells": [
  {
   "cell_type": "code",
   "execution_count": null,
   "source": [
    "import pandas as pd"
   ],
   "outputs": [],
   "metadata": {}
  }
 ],
 "metadata": {
  "orig_nbformat": 4,
  "language_info": {
   "name": "python",
   "version": "3.9.5"
  },
  "kernelspec": {
   "name": "python3",
   "display_name": "Python 3.9.5 64-bit ('.venv': poetry)"
  },
  "interpreter": {
   "hash": "153a085f2d06c26cfbf575373443cb299dfa974e3730fd31baed6c6c3d0ac5e2"
  }
 },
 "nbformat": 4,
 "nbformat_minor": 2
}